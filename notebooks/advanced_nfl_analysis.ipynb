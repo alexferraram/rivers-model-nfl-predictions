{
  "cells": [
    {
      "cell_type": "markdown",
      "metadata": {},
      "source": [
        "# Advanced NFL Game Prediction Analysis\n",
        "\n",
        "This notebook provides comprehensive analysis of the advanced NFL prediction model with:\n",
        "- Situational statistics (3rd down, redzone, etc.)\n",
        "- Player-level statistics and injury tracking\n",
        "- Matchup analysis (offense vs defense)\n",
        "- Team tendencies and advanced metrics\n",
        "- Feature importance and model performance\n"
      ]
    },
    {
      "cell_type": "code",
      "execution_count": null,
      "metadata": {},
      "outputs": [],
      "source": [
        "import sys\n",
        "import os\n",
        "sys.path.append('../src')\n",
        "\n",
        "import pandas as pd\n",
        "import numpy as np\n",
        "import matplotlib.pyplot as plt\n",
        "import seaborn as sns\n",
        "from sklearn.metrics import confusion_matrix, classification_report, roc_auc_score\n",
        "import joblib\n",
        "from advanced_model import AdvancedNFLPredictionModel\n",
        "\n",
        "# Set up plotting\n",
        "plt.style.use('seaborn-v0_8')\n",
        "sns.set_palette(\"husl\")\n",
        "plt.rcParams['figure.figsize'] = (12, 8)\n",
        "\n",
        "# Load advanced game features\n",
        "try:\n",
        "    game_features = pd.read_csv('../data/advanced_game_features.csv')\n",
        "    print(f\"✓ Loaded {len(game_features)} games with advanced features\")\n",
        "    print(f\"✓ Features: {len(game_features.columns)} total features\")\n",
        "except FileNotFoundError:\n",
        "    print(\"❌ Advanced game features not found. Run 'python main.py' first.\")\n",
        "    game_features = pd.DataFrame()\n"
      ]
    },
    {
      "cell_type": "markdown",
      "metadata": {},
      "source": [
        "## Advanced Feature Analysis\n"
      ]
    },
    {
      "cell_type": "code",
      "execution_count": null,
      "metadata": {},
      "outputs": [],
      "source": [
        "if not game_features.empty:\n",
        "    # Analyze feature categories\n",
        "    feature_categories = {\n",
        "        'Situational': [col for col in game_features.columns if 'situational_' in col],\n",
        "        'Player': [col for col in game_features.columns if 'player_' in col],\n",
        "        'Injury': [col for col in game_features.columns if 'injury_' in col],\n",
        "        'Tendencies': [col for col in game_features.columns if 'tendencies_' in col],\n",
        "        'Matchup': [col for col in game_features.columns if 'matchup_' in col],\n",
        "        'Offense': [col for col in game_features.columns if 'offense_' in col],\n",
        "        'Defense': [col for col in game_features.columns if 'defense_' in col]\n",
        "    }\n",
        "    \n",
        "    print(\"Feature Categories:\")\n",
        "    for category, features in feature_categories.items():\n",
        "        print(f\"  {category}: {len(features)} features\")\n",
        "    \n",
        "    # Show sample features from each category\n",
        "    print(\"\\nSample Features by Category:\")\n",
        "    for category, features in feature_categories.items():\n",
        "        if features:\n",
        "            print(f\"\\n{category}:\")\n",
        "            for feature in features[:3]:  # Show first 3 features\n",
        "                print(f\"  • {feature}\")\n",
        "            if len(features) > 3:\n",
        "                print(f\"  ... and {len(features) - 3} more\")\n",
        "else:\n",
        "    print(\"No data available for analysis\")\n"
      ]
    }
  ],
  "metadata": {
    "language_info": {
      "name": "python"
    }
  },
  "nbformat": 4,
  "nbformat_minor": 2
}
