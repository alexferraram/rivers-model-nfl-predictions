{
  "cells": [
    {
      "cell_type": "markdown",
      "metadata": {},
      "source": [
        "# Fantasy-Enhanced NFL Game Prediction Analysis\n",
        "\n",
        "This notebook provides comprehensive analysis of the fantasy-enhanced NFL prediction model incorporating:\n",
        "- Fantasy football data and player valuations\n",
        "- Expected vs actual performance metrics\n",
        "- Opportunity-based statistics and efficiency metrics\n",
        "- Advanced analytics from multiple data sources\n"
      ]
    },
    {
      "cell_type": "code",
      "execution_count": null,
      "metadata": {},
      "outputs": [],
      "source": [
        "import sys\n",
        "import os\n",
        "sys.path.append('../src')\n",
        "\n",
        "import pandas as pd\n",
        "import numpy as np\n",
        "import matplotlib.pyplot as plt\n",
        "import seaborn as sns\n",
        "from sklearn.metrics import confusion_matrix, classification_report, roc_auc_score\n",
        "import joblib\n",
        "from advanced_model import AdvancedNFLPredictionModel\n",
        "\n",
        "# Set up plotting\n",
        "plt.style.use('seaborn-v0_8')\n",
        "sns.set_palette(\"husl\")\n",
        "plt.rcParams['figure.figsize'] = (14, 8)\n",
        "\n",
        "# Load fantasy-enhanced game features\n",
        "try:\n",
        "    game_features = pd.read_csv('../data/fantasy_enhanced_game_features.csv')\n",
        "    print(f\"✓ Loaded {len(game_features)} games with fantasy-enhanced features\")\n",
        "    print(f\"✓ Features: {len(game_features.columns)} total features\")\n",
        "except FileNotFoundError:\n",
        "    try:\n",
        "        game_features = pd.read_csv('../data/advanced_game_features.csv')\n",
        "        print(f\"✓ Loaded {len(game_features)} games with advanced features\")\n",
        "        print(f\"✓ Features: {len(game_features.columns)} total features\")\n",
        "    except FileNotFoundError:\n",
        "        print(\"❌ No game features found. Run 'python main.py' first.\")\n",
        "        game_features = pd.DataFrame()\n"
      ]
    },
    {
      "cell_type": "markdown",
      "metadata": {},
      "source": [
        "## Fantasy-Enhanced Feature Analysis\n"
      ]
    },
    {
      "cell_type": "code",
      "execution_count": null,
      "metadata": {},
      "outputs": [],
      "source": [
        "if not game_features.empty:\n",
        "    # Analyze fantasy-enhanced feature categories\n",
        "    feature_categories = {\n",
        "        'Fantasy': [col for col in game_features.columns if 'fantasy_' in col],\n",
        "        'Opportunity': [col for col in game_features.columns if 'opportunity_' in col],\n",
        "        'Efficiency': [col for col in game_features.columns if 'efficiency_' in col],\n",
        "        'Situational': [col for col in game_features.columns if 'situational_' in col],\n",
        "        'Player': [col for col in game_features.columns if 'player_' in col],\n",
        "        'Injury': [col for col in game_features.columns if 'injury_' in col],\n",
        "        'Tendencies': [col for col in game_features.columns if 'tendencies_' in col],\n",
        "        'Matchup': [col for col in game_features.columns if 'matchup_' in col],\n",
        "        'Offense': [col for col in game_features.columns if 'offense_' in col],\n",
        "        'Defense': [col for col in game_features.columns if 'defense_' in col]\n",
        "    }\n",
        "    \n",
        "    print(\"Fantasy-Enhanced Feature Categories:\")\n",
        "    for category, features in feature_categories.items():\n",
        "        print(f\"  {category}: {len(features)} features\")\n",
        "    \n",
        "    # Show sample features from each category\n",
        "    print(\"\\nSample Features by Category:\")\n",
        "    for category, features in feature_categories.items():\n",
        "        if features:\n",
        "            print(f\"\\n{category}:\")\n",
        "            for feature in features[:3]:  # Show first 3 features\n",
        "                print(f\"  • {feature}\")\n",
        "            if len(features) > 3:\n",
        "                print(f\"  ... and {len(features) - 3} more\")\n",
        "    \n",
        "    # Analyze fantasy-specific features\n",
        "    fantasy_features = feature_categories['Fantasy']\n",
        "    if fantasy_features:\n",
        "        print(f\"\\n🎯 Fantasy Features Analysis:\")\n",
        "        print(f\"Total fantasy features: {len(fantasy_features)}\")\n",
        "        \n",
        "        # Show fantasy feature types\n",
        "        fantasy_types = {}\n",
        "        for feature in fantasy_features:\n",
        "            feature_type = feature.split('_')[1] if '_' in feature else 'other'\n",
        "            fantasy_types[feature_type] = fantasy_types.get(feature_type, 0) + 1\n",
        "        \n",
        "        print(\"Fantasy feature types:\")\n",
        "        for ftype, count in fantasy_types.items():\n",
        "            print(f\"  {ftype}: {count} features\")\n",
        "else:\n",
        "    print(\"No data available for analysis\")\n"
      ]
    }
  ],
  "metadata": {
    "language_info": {
      "name": "python"
    }
  },
  "nbformat": 4,
  "nbformat_minor": 2
}
