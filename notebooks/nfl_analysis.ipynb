{
  "cells": [
    {
      "cell_type": "markdown",
      "metadata": {},
      "source": [
        "# NFL Game Prediction Analysis\n",
        "\n",
        "This notebook provides analysis and visualization of the NFL prediction model.\n"
      ]
    },
    {
      "cell_type": "code",
      "execution_count": null,
      "metadata": {},
      "outputs": [],
      "source": [
        "import sys\n",
        "import os\n",
        "sys.path.append('../src')\n",
        "\n",
        "import pandas as pd\n",
        "import numpy as np\n",
        "import matplotlib.pyplot as plt\n",
        "import seaborn as sns\n",
        "from sklearn.metrics import confusion_matrix, classification_report\n",
        "import joblib\n",
        "\n",
        "# Set up plotting\n",
        "plt.style.use('seaborn-v0_8')\n",
        "sns.set_palette(\"husl\")\n",
        "\n",
        "# Load data\n",
        "game_features = pd.read_csv('../data/game_features.csv')\n",
        "print(f\"Loaded {len(game_features)} games with features\")\n",
        "print(f\"Features: {list(game_features.columns)}\")\n"
      ]
    },
    {
      "cell_type": "markdown",
      "metadata": {},
      "source": [
        "## Data Overview\n"
      ]
    },
    {
      "cell_type": "code",
      "execution_count": null,
      "metadata": {},
      "outputs": [],
      "source": [
        "# Basic statistics\n",
        "print(\"Game Features Summary:\")\n",
        "print(game_features.describe())\n",
        "\n",
        "# Home win distribution\n",
        "home_wins = game_features['home_win'].value_counts()\n",
        "print(f\"\\nHome Win Distribution:\")\n",
        "print(f\"Home wins: {home_wins[1]} ({home_wins[1]/len(game_features)*100:.1f}%)\")\n",
        "print(f\"Away wins: {home_wins[0]} ({home_wins[0]/len(game_features)*100:.1f}%)\")\n"
      ]
    }
  ],
  "metadata": {
    "language_info": {
      "name": "python"
    }
  },
  "nbformat": 4,
  "nbformat_minor": 2
}
